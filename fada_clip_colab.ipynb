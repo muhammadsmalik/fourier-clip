{
 "cells": [
  {
   "cell_type": "markdown",
   "metadata": {},
   "source": [
    "# FADA-CLIP: Frequency-Aware Dual-Stream Adaptation\n",
    "\n",
    "**Minimal execution notebook using DomainBed framework**\n",
    "\n",
    "This notebook uses DomainBed's built-in scripts and infrastructure. All dependencies, datasets, and training loops are handled by DomainBed."
   ]
  },
  {
   "cell_type": "markdown",
   "metadata": {},
   "source": [
    "## Setup"
   ]
  },
  {
   "cell_type": "code",
   "execution_count": null,
   "metadata": {},
   "outputs": [],
   "source": [
    "# Clone repository and install dependencies\n",
    "import os\n",
    "if not os.path.exists('fourier-clip'):\n",
    "    !git clone https://github.com/muhammadsmalik/fourier-clip.git\n",
    "    %cd fourier-clip\n",
    "else:\n",
    "    %cd fourier-clip\n",
    "    !git pull origin main\n",
    "\n",
    "# Install dependencies with modern versions\n",
    "!pip install -r DomainBed/domainbed/requirements.txt\n",
    "print(\"✅ Setup complete!\")"
   ]
  },
  {
   "cell_type": "markdown",
   "metadata": {},
   "source": [
    "## Test CLIP Baseline"
   ]
  },
  {
   "cell_type": "code",
   "execution_count": null,
   "metadata": {},
   "outputs": [],
   "source": [
    "# Create data directory\n",
    "!mkdir -p data\n",
    "\n",
    "# Mount Google Drive to access the dataset\n",
    "from google.colab import drive\n",
    "drive.mount('/content/drive')"
   ]
  },
  {
   "cell_type": "code",
   "execution_count": null,
   "metadata": {},
   "outputs": [],
   "source": [
    "# Copy Office-Home dataset from Google Drive and extract\n",
    "!cp '/content/drive/MyDrive/OfficeHomeDataset_10072016.zip' data/OfficeHome.zip\n",
    "!unzip -q data/OfficeHome.zip -d data/\n",
    "!mv data/OfficeHomeDataset_10072016 data/office_home\n",
    "print(\"✅ Office-Home dataset ready!\")"
   ]
  },
  {
   "cell_type": "markdown",
   "metadata": {},
   "source": []
  },
  {
   "cell_type": "code",
   "execution_count": null,
   "metadata": {},
   "outputs": [],
   "source": [
    "# Test CLIP baseline using DomainBed\n",
    "# Use python -m to run as module from DomainBed directory\n",
    "%cd DomainBed\n",
    "\n",
    "!python -m domainbed.scripts.train \\\n",
    "    --data_dir ../data \\\n",
    "    --dataset OfficeHome \\\n",
    "    --algorithm CLIPZeroShot \\\n",
    "    --test_env 0 \\\n",
    "    --steps 100 \\\n",
    "    --output_dir ../outputs/clip_baseline_test"
   ]
  },
  {
   "cell_type": "markdown",
   "metadata": {},
   "source": [
    "## Train FADA-CLIP"
   ]
  },
  {
   "cell_type": "code",
   "execution_count": null,
   "metadata": {},
   "outputs": [],
   "source": [
    "# Train FADA-CLIP on Office-Home (once implemented in algorithms.py)\n",
    "# Use python -m for proper module execution\n",
    "%cd DomainBed\n",
    "\n",
    "domains = ['Art', 'Clipart', 'Product', 'Real_World']\n",
    "\n",
    "for test_env in range(4):\n",
    "    domain_name = domains[test_env]\n",
    "    print(f\"\\n🎯 Training with {domain_name} as target domain...\")\n",
    "    \n",
    "    !python -m domainbed.scripts.train \\\n",
    "        --data_dir ../data \\\n",
    "        --dataset OfficeHome \\\n",
    "        --algorithm FADA_CLIP \\\n",
    "        --test_env {test_env} \\\n",
    "        --output_dir ../outputs/fada_clip_{domain_name.lower()}\n",
    "    \n",
    "    print(f\"✅ Completed {domain_name}\")"
   ]
  },
  {
   "cell_type": "markdown",
   "metadata": {},
   "source": [
    "## Collect Results"
   ]
  },
  {
   "cell_type": "code",
   "execution_count": null,
   "metadata": {},
   "outputs": [],
   "source": [
    "# Collect and display results using DomainBed's script\n",
    "%cd DomainBed\n",
    "!python -m domainbed.scripts.collect_results \\\n",
    "    --input_dir ../outputs/"
   ]
  },
  {
   "cell_type": "markdown",
   "metadata": {},
   "source": [
    "## Development Status\n",
    "\n",
    "**✅ Phase 1**: Environment setup  \n",
    "**🔄 Phase 2**: Implement FADA_CLIP in `DomainBed/domainbed/algorithms.py`\n",
    "\n",
    "**Next Steps:**\n",
    "1. Add FADA_CLIP algorithm to algorithms.py\n",
    "2. Add 'FADA_CLIP' to ALGORITHMS list\n",
    "3. Test with CLIPZeroShot baseline first\n",
    "4. Run FADA_CLIP training\n",
    "\n",
    "**Expected Results:**\n",
    "- CLIP Baseline: ~82.4%\n",
    "- FADA Target: 87-89%"
   ]
  }
 ],
 "metadata": {
  "kernelspec": {
   "display_name": "Python 3",
   "language": "python",
   "name": "python3"
  },
  "language_info": {
   "codemirror_mode": {
    "name": "ipython",
    "version": 3
   },
   "file_extension": ".py",
   "mimetype": "text/x-python",
   "name": "python",
   "nbconvert_exporter": "python",
   "pygments_lexer": "ipython3",
   "version": "3.9.0"
  }
 },
 "nbformat": 4,
 "nbformat_minor": 4
}
