{
 "cells": [
  {
   "cell_type": "markdown",
   "metadata": {},
   "source": [
    "# FADA-CLIP: Frequency-Aware Dual-Stream Adaptation\n",
    "\n",
    "**Minimal execution notebook using DomainBed framework**\n",
    "\n",
    "This notebook uses DomainBed's built-in scripts and infrastructure. All dependencies, datasets, and training loops are handled by DomainBed."
   ]
  },
  {
   "cell_type": "markdown",
   "metadata": {},
   "source": [
    "## Setup"
   ]
  },
  {
   "cell_type": "code",
   "execution_count": null,
   "metadata": {},
   "outputs": [],
   "source": [
    "# Clone repository and install DomainBed\n",
    "import os\n",
    "if not os.path.exists('fourier-clip'):\n",
    "    !git clone https://github.com/muhammadsmalik/fourier-clip.git\n",
    "    %cd fourier-clip\n",
    "else:\n",
    "    %cd fourier-clip\n",
    "    !git pull origin main\n",
    "\n",
    "# Install DomainBed (handles all dependencies)\n",
    "!pip install -e DomainBed/\n",
    "print(\"✅ Setup complete!\")"
   ]
  },
  {
   "cell_type": "markdown",
   "metadata": {},
   "source": [
    "## Test CLIP Baseline"
   ]
  },
  {
   "cell_type": "code",
   "execution_count": null,
   "metadata": {},
   "outputs": [],
   "source": [
    "# Test CLIP baseline using DomainBed\n",
    "# This will test that our setup works before implementing FADA\n",
    "\n",
    "!python DomainBed/domainbed/scripts/train.py \\\n",
    "    --data_dir ./data \\\n",
    "    --dataset OfficeHome \\\n",
    "    --algorithm CLIPZeroShot \\\n",
    "    --test_env 0 \\\n",
    "    --steps 100 \\\n",
    "    --output_dir ./outputs/clip_baseline_test"
   ]
  },
  {
   "cell_type": "markdown",
   "metadata": {},
   "source": [
    "## Train FADA-CLIP"
   ]
  },
  {
   "cell_type": "code",
   "execution_count": null,
   "metadata": {},
   "outputs": [],
   "source": [
    "# Train FADA-CLIP on Office-Home (once implemented in algorithms.py)\n",
    "# Leave-one-domain-out evaluation\n",
    "\n",
    "domains = ['Art', 'Clipart', 'Product', 'Real_World']\n",
    "\n",
    "for test_env in range(4):\n",
    "    domain_name = domains[test_env]\n",
    "    print(f\"\\n🎯 Training with {domain_name} as target domain...\")\n",
    "    \n",
    "    !python DomainBed/domainbed/scripts/train.py \\\n",
    "        --data_dir ./data \\\n",
    "        --dataset OfficeHome \\\n",
    "        --algorithm FADA_CLIP \\\n",
    "        --test_env {test_env} \\\n",
    "        --output_dir ./outputs/fada_clip_{domain_name.lower()}\n",
    "    \n",
    "    print(f\"✅ Completed {domain_name}\")"
   ]
  },
  {
   "cell_type": "markdown",
   "metadata": {},
   "source": [
    "## Collect Results"
   ]
  },
  {
   "cell_type": "code",
   "execution_count": null,
   "metadata": {},
   "outputs": [],
   "source": [
    "# Collect and display results using DomainBed's script\n",
    "!python DomainBed/domainbed/scripts/collect_results.py \\\n",
    "    --input_dir ./outputs/"
   ]
  },
  {
   "cell_type": "markdown",
   "metadata": {},
   "source": [
    "## Development Status\n",
    "\n",
    "**✅ Phase 1**: Environment setup  \n",
    "**🔄 Phase 2**: Implement FADA_CLIP in `DomainBed/domainbed/algorithms.py`\n",
    "\n",
    "**Next Steps:**\n",
    "1. Add FADA_CLIP algorithm to algorithms.py\n",
    "2. Add 'FADA_CLIP' to ALGORITHMS list\n",
    "3. Test with CLIPZeroShot baseline first\n",
    "4. Run FADA_CLIP training\n",
    "\n",
    "**Expected Results:**\n",
    "- CLIP Baseline: ~82.4%\n",
    "- FADA Target: 87-89%"
   ]
  }
 ],
 "metadata": {
  "kernelspec": {
   "display_name": "Python 3",
   "language": "python",
   "name": "python3"
  },
  "language_info": {
   "codemirror_mode": {
    "name": "ipython",
    "version": 3
   },
   "file_extension": ".py",
   "mimetype": "text/x-python",
   "name": "python",
   "nbconvert_exporter": "python",
   "pygments_lexer": "ipython3",
   "version": "3.9.0"
  }
 },
 "nbformat": 4,
 "nbformat_minor": 4
}